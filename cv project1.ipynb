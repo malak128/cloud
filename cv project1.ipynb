{
  "nbformat": 4,
  "nbformat_minor": 0,
  "metadata": {
    "colab": {
      "provenance": [],
      "gpuType": "T4",
      "authorship_tag": "ABX9TyP7ZokL2dB9L0HcOJycff2Q",
      "include_colab_link": true
    },
    "kernelspec": {
      "name": "python3",
      "display_name": "Python 3"
    },
    "language_info": {
      "name": "python"
    },
    "accelerator": "GPU"
  },
  "cells": [
    {
      "cell_type": "markdown",
      "metadata": {
        "id": "view-in-github",
        "colab_type": "text"
      },
      "source": [
        "<a href=\"https://colab.research.google.com/github/malak128/cloud/blob/main/cv%20project1.ipynb\" target=\"_parent\"><img src=\"https://colab.research.google.com/assets/colab-badge.svg\" alt=\"Open In Colab\"/></a>"
      ]
    },
    {
      "cell_type": "code",
      "source": [
        "!pip install kagglehub --quiet\n",
        "\n",
        "import kagglehub\n",
        "import tensorflow as tf\n",
        "from tensorflow.keras.applications import ResNet50\n",
        "from tensorflow.keras import layers, models\n",
        "import matplotlib.pyplot as plt\n"
      ],
      "metadata": {
        "id": "_d0tL-wTYXbE"
      },
      "execution_count": null,
      "outputs": []
    },
    {
      "cell_type": "code",
      "source": [
        "import os\n",
        "\n",
        "import kagglehub\n",
        "path = kagglehub.dataset_download(\"moltean/fruits\")\n",
        "print(\"Dataset path:\", path)\n",
        "\n",
        "# Show first few items inside\n",
        "for root, dirs, files in os.walk(path):\n",
        "    print(root)\n",
        "    print(dirs)\n",
        "    break\n"
      ],
      "metadata": {
        "colab": {
          "base_uri": "https://localhost:8080/"
        },
        "id": "iVM5NlJnYsGn",
        "outputId": "6079bb9e-525c-41b3-bc05-c2cc8af43035"
      },
      "execution_count": null,
      "outputs": [
        {
          "output_type": "stream",
          "name": "stdout",
          "text": [
            "Dataset path: /kaggle/input/fruits\n",
            "/kaggle/input/fruits\n",
            "['fruits-360_100x100', 'fruits-360_3-body-problem', 'fruits-360_dataset_meta', 'fruits-360_original-size', 'fruits-360_multi']\n"
          ]
        }
      ]
    },
    {
      "cell_type": "code",
      "source": [
        "path = kagglehub.dataset_download(\"moltean/fruits\")\n",
        "print(\"Dataset path:\", path)\n",
        "\n",
        "train_set = \"/kaggle/input/fruits/fruits-360_100x100/fruits-360/Training\"\n",
        "test_set  = \"/kaggle/input/fruits/fruits-360_100x100/fruits-360/Test\"\n",
        "\n"
      ],
      "metadata": {
        "colab": {
          "base_uri": "https://localhost:8080/"
        },
        "id": "l4zQPG7mYaNO",
        "outputId": "2e764861-123a-444c-d787-521cb64064ef"
      },
      "execution_count": null,
      "outputs": [
        {
          "output_type": "stream",
          "name": "stdout",
          "text": [
            "Dataset path: /kaggle/input/fruits\n"
          ]
        }
      ]
    },
    {
      "cell_type": "code",
      "source": [
        "image_size = (128, 128)\n",
        "batch_size = 64\n",
        "\n",
        "train_dataset = tf.keras.utils.image_dataset_from_directory(\n",
        "    train_set,\n",
        "    image_size=image_size,\n",
        "    batch_size=batch_size\n",
        ")\n",
        "test_dataset = tf.keras.utils.image_dataset_from_directory(\n",
        "    test_set,\n",
        "    image_size=image_size,\n",
        "    batch_size=batch_size\n",
        ")"
      ],
      "metadata": {
        "colab": {
          "base_uri": "https://localhost:8080/"
        },
        "id": "firRoUCoYc0_",
        "outputId": "56a0fce2-dbaa-4e9a-d11d-26573fb340d1"
      },
      "execution_count": null,
      "outputs": [
        {
          "output_type": "stream",
          "name": "stdout",
          "text": [
            "Found 104456 files belonging to 207 classes.\n",
            "Found 34864 files belonging to 207 classes.\n"
          ]
        }
      ]
    },
    {
      "cell_type": "code",
      "source": [
        "train_dataset = train_dataset.map(lambda x, y: (tf.cast(x, tf.float32) / 255.0, y))\n",
        "test_dataset = test_dataset.map(lambda x, y: (tf.cast(x, tf.float32) / 255.0, y))\n"
      ],
      "metadata": {
        "id": "3xWF50iJY4St"
      },
      "execution_count": null,
      "outputs": []
    },
    {
      "cell_type": "code",
      "source": [
        "base_model = ResNet50(\n",
        "    weights='imagenet',\n",
        "    include_top=False,\n",
        "    input_shape=(128, 128, 3)\n",
        ")\n",
        "base_model.trainable = False\n",
        "\n",
        "model = models.Sequential([\n",
        "    base_model,\n",
        "    layers.GlobalAveragePooling2D(),\n",
        "    layers.Dense(128, activation='relu'),\n",
        "    layers.Dense(207, activation='softmax')\n",
        "])\n"
      ],
      "metadata": {
        "colab": {
          "base_uri": "https://localhost:8080/"
        },
        "id": "xYpN1aR4Y8N3",
        "outputId": "8024d617-7957-4164-fa56-9d2489eaa003"
      },
      "execution_count": null,
      "outputs": [
        {
          "output_type": "stream",
          "name": "stdout",
          "text": [
            "Downloading data from https://storage.googleapis.com/tensorflow/keras-applications/resnet/resnet50_weights_tf_dim_ordering_tf_kernels_notop.h5\n",
            "\u001b[1m94765736/94765736\u001b[0m \u001b[32m━━━━━━━━━━━━━━━━━━━━\u001b[0m\u001b[37m\u001b[0m \u001b[1m1s\u001b[0m 0us/step\n"
          ]
        }
      ]
    },
    {
      "cell_type": "code",
      "source": [
        "model.compile(\n",
        "    optimizer='adam',\n",
        "    loss='sparse_categorical_crossentropy',\n",
        "    metrics=['accuracy']\n",
        ")\n",
        "\n",
        "history = model.fit(\n",
        "    train_dataset,\n",
        "    validation_data=test_dataset,\n",
        "    epochs=5\n",
        ")\n"
      ],
      "metadata": {
        "colab": {
          "base_uri": "https://localhost:8080/"
        },
        "id": "LNksaD4fY_Vx",
        "outputId": "879d5a38-68a3-410d-95ef-b98bb31ab77e"
      },
      "execution_count": null,
      "outputs": [
        {
          "output_type": "stream",
          "name": "stdout",
          "text": [
            "Epoch 1/5\n",
            "\u001b[1m1633/1633\u001b[0m \u001b[32m━━━━━━━━━━━━━━━━━━━━\u001b[0m\u001b[37m\u001b[0m \u001b[1m264s\u001b[0m 154ms/step - accuracy: 0.0581 - loss: 4.6939 - val_accuracy: 0.2366 - val_loss: 3.2908\n",
            "Epoch 2/5\n",
            "\u001b[1m1633/1633\u001b[0m \u001b[32m━━━━━━━━━━━━━━━━━━━━\u001b[0m\u001b[37m\u001b[0m \u001b[1m112s\u001b[0m 68ms/step - accuracy: 0.3207 - loss: 2.8674 - val_accuracy: 0.4179 - val_loss: 2.4861\n",
            "Epoch 3/5\n",
            "\u001b[1m1633/1633\u001b[0m \u001b[32m━━━━━━━━━━━━━━━━━━━━\u001b[0m\u001b[37m\u001b[0m \u001b[1m111s\u001b[0m 68ms/step - accuracy: 0.5045 - loss: 2.0833 - val_accuracy: 0.5150 - val_loss: 2.0354\n",
            "Epoch 4/5\n",
            "\u001b[1m1483/1633\u001b[0m \u001b[32m━━━━━━━━━━━━━━━━━━\u001b[0m\u001b[37m━━\u001b[0m \u001b[1m7s\u001b[0m 52ms/step - accuracy: 0.6065 - loss: 1.6368"
          ]
        }
      ]
    },
    {
      "cell_type": "code",
      "source": [
        "base_model.trainable = True\n",
        "for layer in base_model.layers[:-20]:\n",
        "    layer.trainable = False\n",
        "\n",
        "model.compile(\n",
        "    optimizer=tf.keras.optimizers.Adam(1e-5),\n",
        "    loss='sparse_categorical_crossentropy',\n",
        "    metrics=['accuracy']\n",
        ")\n",
        "\n",
        "history_finetuning = model.fit(\n",
        "    train_dataset,\n",
        "    validation_data=test_dataset,\n",
        "    epochs=5\n",
        ")"
      ],
      "metadata": {
        "id": "mKnqAPkQZCA1",
        "colab": {
          "base_uri": "https://localhost:8080/"
        },
        "outputId": "5cbd05e4-fa10-4cdf-ec58-28d1f1608d6d"
      },
      "execution_count": null,
      "outputs": [
        {
          "output_type": "stream",
          "name": "stdout",
          "text": [
            "Epoch 1/5\n",
            "\u001b[1m1633/1633\u001b[0m \u001b[32m━━━━━━━━━━━━━━━━━━━━\u001b[0m\u001b[37m\u001b[0m \u001b[1m164s\u001b[0m 90ms/step - accuracy: 0.5361 - loss: 13.6222 - val_accuracy: 0.8093 - val_loss: 0.8380\n",
            "Epoch 2/5\n",
            "\u001b[1m 553/1633\u001b[0m \u001b[32m━━━━━━\u001b[0m\u001b[37m━━━━━━━━━━━━━━\u001b[0m \u001b[1m1:12\u001b[0m 68ms/step - accuracy: 0.9182 - loss: 0.2839"
          ]
        }
      ]
    },
    {
      "cell_type": "code",
      "source": [
        "loss, acc = model.evaluate(test_dataset)\n",
        "print(f\"✅ Test Accuracy: {acc:.4f}\")\n",
        "print(f\"✅ Test Loss: {loss:.4f}\")\n"
      ],
      "metadata": {
        "id": "10TDbw54ZDw5"
      },
      "execution_count": null,
      "outputs": []
    },
    {
      "cell_type": "code",
      "source": [
        "plt.plot(history.history['accuracy'] + history_finetuning.history['accuracy'], label='Train Accuracy')\n",
        "plt.plot(history.history['val_accuracy'] + history_finetuning.history['val_accuracy'], label='Val Accuracy')\n",
        "plt.xlabel('Epoch')\n",
        "plt.ylabel('Accuracy')\n",
        "plt.legend()\n",
        "plt.show()\n"
      ],
      "metadata": {
        "id": "W4gqLZfrYGnh"
      },
      "execution_count": null,
      "outputs": []
    }
  ]
}